{
  "nbformat": 4,
  "nbformat_minor": 0,
  "metadata": {
    "colab": {
      "name": "Sentiment_Analysis",
      "provenance": [],
      "authorship_tag": "ABX9TyPIFjR31EihDRq3QUyIzt3Q",
      "include_colab_link": true
    },
    "kernelspec": {
      "name": "python3",
      "display_name": "Python 3"
    }
  },
  "cells": [
    {
      "cell_type": "markdown",
      "metadata": {
        "id": "view-in-github",
        "colab_type": "text"
      },
      "source": [
        "<a href=\"https://colab.research.google.com/github/Ashish-17CSE/Sentiment_Analysis/blob/main/Sentiment_Analysis.ipynb\" target=\"_parent\"><img src=\"https://colab.research.google.com/assets/colab-badge.svg\" alt=\"Open In Colab\"/></a>"
      ]
    },
    {
      "cell_type": "markdown",
      "metadata": {
        "id": "EKv-39jwew8W"
      },
      "source": [
        "# **Sentiment_Analysis**"
      ]
    },
    {
      "cell_type": "code",
      "metadata": {
        "id": "JWp92vSXdxJD"
      },
      "source": [
        "from textblob import TextBlob"
      ],
      "execution_count": null,
      "outputs": []
    },
    {
      "cell_type": "code",
      "metadata": {
        "colab": {
          "base_uri": "https://localhost:8080/"
        },
        "id": "volsq1kGgYTv",
        "outputId": "24e72b1f-613c-4ea1-bf47-c2686120981a"
      },
      "source": [
        "feedback1 = \"The Food at Redison was awesome\"\r\n",
        "feedback2 = \"The Food at Redison was good\"\r\n",
        "blob1 = TextBlob(feedback1)\r\n",
        "blob2 = TextBlob(feedback2)\r\n",
        "print (blob1.sentiment)\r\n",
        "print (blob2.sentiment)"
      ],
      "execution_count": null,
      "outputs": [
        {
          "output_type": "stream",
          "text": [
            "Sentiment(polarity=1.0, subjectivity=1.0)\n",
            "Sentiment(polarity=0.7, subjectivity=0.6000000000000001)\n"
          ],
          "name": "stdout"
        }
      ]
    },
    {
      "cell_type": "code",
      "metadata": {
        "id": "dr0yF8Svqm4k"
      },
      "source": [
        "  "
      ],
      "execution_count": null,
      "outputs": []
    }
  ]
}